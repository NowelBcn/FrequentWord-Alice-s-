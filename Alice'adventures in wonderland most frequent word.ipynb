{
 "cells": [
  {
   "cell_type": "markdown",
   "metadata": {},
   "source": [
    "# 1. Tools for text processing\n",
    "<p>What are the most frequent words in Lewis Carrol's Alice's adventures in Wonderland and how often do they occur?</p>\n",
    "<p>In this notebook, I scrape the novel <em>Alice's adventures in Wonderland</em> from the website <a href=\"https://www.gutenberg.org/\">Project Gutenberg</a>. Then I'll extract words from this web data using <code>BeautifulSoup</code> and <code>Requests packages</code>. Finally, I'll dive into analyzing the distribution of words using the Natural Language ToolKit (<code>nltk</code>). </p>\n",
    "<p>The <em>Data Science pipeline</em> in this notebook can be used to visualize the word frequency distributions of any novel that you can find on the web by parsing the html data.</p>\n",
    "![](./alice-in-wonderland-knowledge-quiz-header.png)"
   ]
  },
  {
   "cell_type": "code",
   "execution_count": 1,
   "metadata": {
    "collapsed": true
   },
   "outputs": [],
   "source": [
    "# Importing requests, BeautifulSoup and nltk\n",
    "import nltk\n",
    "from bs4 import BeautifulSoup\n",
    "import requests"
   ]
  },
  {
   "cell_type": "markdown",
   "metadata": {},
   "source": [
    "## 2. Request Package\n",
    "<p>To analyze the book, we need to get the contents of Alice's adventures in wonderland from <em>somewhere</em>. Luckily, the text is available online at Project Gutenberg as an HTML file: https://www.gutenberg.org/files/19033/19033-h/19033-h.htm </p>\n",
    "<p>To fetch the HTML file with Alice I'm going to use the <code>request</code> package to make a <code>GET</code> request for the website, which means we're <em>getting</em> data from it. This is what you're doing through a browser when visiting a webpage, but now we're getting the requested page directly into python instead. </p>"
   ]
  },
  {
   "cell_type": "code",
   "execution_count": 2,
   "metadata": {},
   "outputs": [
    {
     "name": "stdout",
     "output_type": "stream",
     "text": [
      "<!DOCTYPE html PUBLIC \"-//W3C//DTD XHTML 1.0 Strict//EN\"\r\n",
      "    \"http://www.w3.org/TR/xhtml1/DTD/xhtml1-strict.dtd\">\r\n",
      "\r\n",
      "<html xmlns=\"http://www.w3.org/1999/xhtml\">\r\n",
      "  <head>\r\n",
      "    <meta http-equiv=\"Content-Type\" content=\"text/html;charset=iso-8859-1\" />\r\n",
      "    <title>\r\n",
      "      The Project Gutenberg eBook of Alice's Adventures in Wonderland, by Lewis Carroll\r\n",
      "    </title>\r\n",
      "    <style type=\"text/css\">\r\n",
      "/*<![CDATA[  XML blockout */\r\n",
      "<!--\r\n",
      "    p {  margin-top: .75em;\r\n",
      "         text-align: justify;\r\n",
      "         margin-bottom: .75em;\r\n",
      "         }\r\n",
      "    h1,h2,h4,h5,h6 {\r\n",
      "         text-align: center; /* all headings centered */\r\n",
      "         clear: both;\r\n",
      "         }\r\n",
      "    h3  {text-decoration: underline; text-align: center; clear: both;}\r\n",
      "\r\n",
      "    hr { width: 33%;\r\n",
      "\t margin-top: 2em;\r\n",
      "\t margin-bottom: 2em;\r\n",
      "         margin-left: auto;\r\n",
      "         margin-right: auto;\r\n",
      "         clear: both;\r\n",
      "       }\r\n",
      "\r\n",
      "    body{margin-left: 10%;\r\n",
      "         margin-right: 10%;\r\n",
      "        }\r\n",
      "    img\r\n",
      "        {border-style: none;\r\n",
      "        }\r\n",
      "\r\n",
      "    .pagenum  { /* uncomment the next line for invisible page numbers */\r\n",
      "            /*  visibility: hidden;  */\r\n",
      "                position: absolute;\r\n",
      "                left: 92%;\r\n",
      "                font-size: smaller;\r\n",
      "                text-align: right;\r\n",
      "              } /* page numbers */\r\n",
      "\r\n",
      "    .center   {text-align: center;}\r\n",
      "    .caption  {font-weight: bold; text-align: center; margin-bottom: 2em;}\r\n",
      "\r\n",
      "    .figcenter   {margin: auto; text-align: center; margin-top: 2em; }\r\n",
      "\r\n",
      "    .figleft     {float: left; clear: left; margin-left: 0; margin-bottom: 0; margin-top:\r\n",
      "                 0; margin-right: 0; padding: 0; text-align: center;}\r\n",
      "\r\n",
      "    .figright    {float: right; clear: right; margin-left: 0; margin-bottom: 0;\r\n",
      "                 margin-top: 0; margin-right: 0; padding: 0; text-align: center;}\r\n",
      "    .poem             {margin-left:10%; margin-right:10%; text-align: left;}\r\n",
      "    .poem br          {display: none;}\r\n",
      "    .poem .stanza     {margin: 1em 0em 1em 0em;}\r\n",
      "    .poem span.i0     {display: block; margin-left: 0em; padding-left: 3em; text-indent: -3em;}\r\n",
      "    .poem span.i2     {display: block; margin-left: 2em; padding-left: 3em; text-indent: -3em;}\r\n",
      "    .poem span.i4     {display: block; margin-left: 4em; padding-left: 3em; text-indent: -3em;}\r\n",
      "    .poem span.i1     {display: block; margin-left: 1em; padding-left: 3em; text-indent: -3em;}\r\n",
      "    .poem span.i10     {display: block; margin-left: 10em; padding-left: 3em; text-indent: -3em;}\r\n",
      "    .poem span.i11     {display: block; margin-left: 11em; padding-left: 3em; text-indent: -3em;}\r\n",
      "    .poem span.i12     {display: block; margin-left: 12em; padding-left: 3em; text-indent: -3em;}\r\n",
      "    .poem span.i13     {display: block; margin-left: 13em; padding-left: 3em; text-indent: -3em;}\r\n",
      "    .poem span.i14     {display: block; margin-left: 14em; padding-left: 3em; text-indent: -3em;}\r\n",
      "    .poem span.i15     {display: block; margin-left: 15em; padding-left: 3em; text-indent: -3em;}\r\n",
      "    .poem span.i3     {display: block; margin-left: 3em; padding-left: 3em; text-indent: -3em;}\r\n",
      "    .poem span.i5     {display: block; margin-left: 5em; padding-left: 3em; text-indent: -3em;}\r\n",
      "    .poem span.i6     {display: block; margin-left: 6em; padding-left: 3em; text-indent: -3em;}\r\n",
      "    .poem span.i7     {display: block; margin-left: 7em; padding-left: 3em; text-indent: -3em;}\r\n",
      "    .poem span.i8     {display: block; margin-left: 8em; padding-left: 3em; text-indent: -3em;}\r\n",
      "    .poem span.i9     {display: block; margin-left: 9em; padding-left: 3em; text-indent: -3em;}\r\n",
      "  // -->\r\n",
      "    /* XML end  ]]>*/\r\n",
      "    </style>\r\n",
      "  </head>\r\n",
      "<body>\r\n",
      "\r\n",
      "\r\n",
      "<pre>\r\n",
      "\r\n",
      "The Project Gutenberg EBook of Alice in Wonderland, by Lewis Carroll\r\n",
      "\r\n",
      "This eBook is for the use of anyone anywhere at no cost and with\r\n",
      "almost no restrictions whatsoever.  You may copy it, give it away or\r\n",
      "re-use it under the terms of the Project Gutenberg License included\r\n",
      "with this eBook or online at www.gutenberg.org\r\n",
      "\r\n",
      "\r\n",
      "Title: Alice in Wonderland\r\n",
      "\r\n",
      "Author: Lewis Carroll\r\n",
      "\r\n",
      "Illustrator: Gordon Robinson\r\n",
      "\r\n",
      "Release Date: August 12, 2006 [EBook #19033]\r\n",
      "\r\n",
      "Language: English\r\n",
      "\r\n",
      "Character set encoding: ISO-8859-1\r\n",
      "\r\n",
      "*** START OF THIS PROJECT GUTENBERG EBOOK ALICE IN WONDERLAND ***\r\n",
      "\r\n",
      "\r\n",
      "\r\n",
      "\r\n",
      "Produced by Jason Isbell, Irma Spehar, and the Online\r\n",
      "Distributed Proofreading Team at http://www.pgdp.net\r\n",
      "\r\n",
      "\r\n",
      "\r\n",
      "\r\n",
      "\r\n",
      "\r\n",
      "</pre>\r\n",
      "\r\n",
      "\r\n",
      "<h3><i>THE \"STORYLAND\" SERIES</i></h3>\r\n",
      "\r\n",
      "<p><span class='pagenum'><a name=\"Page_1\" id=\"Page_1\">[Pg 1]</a></span></p><h1 style=\"padding-top: 2em; padding-bottom: 1em\">ALICE'S ADVENTURES<br /> IN<br /> WONDERLAND</h1>\r\n",
      "\r\n",
      "\r\n",
      "\r\n",
      "<p class=\"figcenter\"><a href=\"images/cover.jpg\"><img src=\"images/cover_th.jpg\" alt=\"Frontispiece\"  /></a></p>\r\n",
      "\r\n",
      "<div class=\"figcenter\" style=\"width: 66px; padding-top: 4em\">\r\n",
      "<img src=\"images/title.jpg\" width=\"66\" height=\"66\" alt=\"\"  />\r\n",
      "</div>\r\n",
      "\r\n",
      "<p><span class='pagenum'><a name=\"Page_2\" id=\"Page_2\">[Pg 2]</a></span></p><h4>SAM'L GABRIEL SONS &amp; COMPANY<br /> NEW YORK</h4>\r\n",
      "\r\n",
      "<p><span class='pagenum'><a name=\"Pag\n"
     ]
    }
   ],
   "source": [
    "#Assign the url\n",
    "\n",
    "url = 'https://www.gutenberg.org/files/19033/19033-h/19033-h.htm'\n",
    "\n",
    "# Getting the Moby Dick HTML \n",
    "\n",
    "r = requests.get(url)\n",
    "\n",
    "# Setting the correct text encoding of the HTML page\n",
    "\n",
    "r.encoding = 'utf-8'\n",
    "\n",
    "# Extracting the HTML from the request object\n",
    "\n",
    "html = r.text\n",
    "\n",
    "# Printing the first 5000 characters in html\n",
    "print(html[:5000])"
   ]
  },
  {
   "cell_type": "markdown",
   "metadata": {},
   "source": [
    "## 3. Get the text from the HTML\n",
    "<p>What I need to do now is <em>wrangle</em> this HTML to extract the text of the novel. For this I'll use the package <code>BeautifulSoup</code>.</p>\n",
    "<p>Firstly, a word on the name of the package: Beautiful Soup? In web development, the term \"tag soup\" refers to structurally or syntactically incorrect HTML code written for a web page. What Beautiful Soup does best is to make tag soup beautiful again and to extract information from it with ease!. After creating the soup, we can use its <code>.get_text()</code> method to extract the text.</p>"
   ]
  },
  {
   "cell_type": "code",
   "execution_count": 3,
   "metadata": {},
   "outputs": [
    {
     "name": "stdout",
     "output_type": "stream",
     "text": [
      "hing to eat or\r\n",
      "drink under the circumstances. There was a large mushroom growing near\r\n",
      "her, about the same height as herself. She stretched herself up on\r\n",
      "tiptoe and peeped over the edge and her eyes immediately met those of a\r\n",
      "large blue caterpillar, that was sitting on the top, with its arms\r\n",
      "folded, quietly smoking a long hookah and taking not the smallest notice\r\n",
      "of her or of anything else.\n",
      "\n",
      "\n",
      "[Pg 26]\n",
      "V—ADVICE FROM A CATERPILLAR\n",
      "At last the Caterpillar took the hookah out of its mouth and addressed\r\n",
      "Alice in a languid, sleepy voice.\n",
      "\"Who are you?\" said the Caterpillar.\n",
      "\n",
      "Alice replied, rather shyly, \"I—I hardly know, sir, just at present—at\r\n",
      "least I know who I was when I got up this morning, but I think I must\r\n",
      "have changed several times since then.\"\n",
      "\"What do you mean by that?\" said the Caterpillar, sternly. \"Explain\r\n",
      "yourself!\"[Pg 27]\n",
      "\"I can't explain myself, I'm afraid, sir,\" said Alice, \"because I'm\r\n",
      "not myself, you see—being so many different sizes in a day is very\r\n",
      "confusing.\" She drew herself up and said very gravely, \"I think you\r\n",
      "ought to tell me who you are, first.\"\n",
      "\"Why?\" said the Caterpillar.\n",
      "As Alice could not think of any good reason and the Caterpillar seemed\r\n",
      "to be in a very unpleasant state of mind, she turned away.\n",
      "\"Come back!\" the Caterpillar called after her. \"I've something important\r\n",
      "to say!\" Alice turned and came back again.\n",
      "\"Keep your temper,\" said the Caterpillar.\n",
      "\"Is that all?\" said Alice, swallowing down her anger as well as she\r\n",
      "could.\n",
      "\"No,\" said the Caterpillar.\n",
      "It unfolded its arms, took the hookah out of its mouth again, and said,\r\n",
      "\"So you think you're changed, do you?\"\n",
      "\"I'm afraid, I am, sir,\" said Alice. \"I can't remember things as I\r\n",
      "used—and I don't keep the same size for ten minutes together!\"\n",
      "\"What size do you want to be?\" asked the Caterpillar.\n",
      "\"Oh, I'm not particular as to size,\" Alice hastily replied, \"only one\r\n",
      "doesn't like changing so often, you know. I should like to be a little\r\n",
      "larger, sir, if you wouldn't mind,\" said Alice. \"Three inches is such a\r\n",
      "wretched height to be.\"\n",
      "\"It is a very good height indeed!\" said the Caterpillar angrily, rearing\r\n",
      "itself upright as it spoke (it was exactly three inches high).[Pg 28]\n",
      "In a minute or two, the Caterpillar got down off the mushroom and\r\n",
      "crawled away into the grass, merely remarking, as it went, \"One side\r\n",
      "will make you grow taller, and the other side will make you grow\r\n",
      "shorter.\"\n",
      "\"One side of what? The other side of what?\" thought Alice to\r\n",
      "herself.\n",
      "\"Of the mushroom,\" said the Caterpillar, just as if she had asked it\r\n",
      "aloud; and in another moment, it was out of sight.\n",
      "Alice remained looking thoughtfully at the mushroom for a minute, trying\r\n",
      "to make out which were the two sides of it. At last she stretched her\r\n",
      "arms 'round it as far as they would go, and broke off a bit of the edge\r\n",
      "with each hand.\n",
      "\"And now which is which?\" she said to herself, and nibbled a little of\r\n",
      "the right-hand bit to try the effect. The next moment she felt a violent\r\n",
      "blow underneath her chin—it had struck her foot!\n",
      "She was a good deal frightened by this very sudden change, as she was\r\n",
      "shrinking rapidly; so she set to work at once to eat some of the other\r\n",
      "bit. Her chin was pressed so closely against her foot that there was\r\n",
      "hardly room to open her mouth; but she did it at last and managed to\r\n",
      "swallow a morsel of the left-hand bit....\n",
      "\"Come, my head's free at last!\" said Alice; but all she could see, when\r\n",
      "she looked down, was an immense length of neck, which seemed to rise\r\n",
      "like a stalk out of a sea of green leaves that lay far below her.\n",
      "\"Where have my shoulders got to? And oh, my poor hands, how is it I\r\n",
      "can't see you?\" She was de[Pg 29]lighted to find that her neck would bend\r\n",
      "about easily in any direction, like a serpent. She had just succeeded in\r\n",
      "curving it down into a graceful zigzag and was going to dive in among\r\n",
      "the leaves, when a sharp hiss made her draw back in a hurry—a large\r\n",
      "pigeon had flown into her face and was beating her violently with its\r\n",
      "wings.\n",
      "\n",
      "\"Serpent!\" cried the Pigeon.\n",
      "\"I'm not a serpent!\" said Alice indignantly. \"Let me alone!\"\n",
      "\"I've tried the roots of trees, and I've tried banks, and I've tried\r\n",
      "hedges,\" the Pigeon went on, \"but those serpents! There's no pleasing\r\n",
      "them!\"\n",
      "Alice was more and more puzzled.\n",
      "\"As if it wasn't trouble enough hatching the eggs,\" said the Pigeon,\r\n",
      "\"but I must be on the look-out for serpents, night and day! And just as\r\n",
      "I'd taken the highest tree in the wood,\" continued the Pigeon, raising\r\n",
      "its voice to a shriek, \"and just as I was thinking I should be free of\r\n",
      "them at last, they must needs come wriggling down from the sky! Ugh,\r\n",
      "Serpent!\"\n",
      "\"But I'm not a serpent, I tell you!\" said Alice. \"I'm a—I'm a—I'm a\r\n",
      "little girl,\" she added rather[Pg 30] doubtfully, as she remembered the number\r\n",
      "of changes she had gone through that day.\n",
      "\"You're looking for eggs, I know that well enough,\" said the Pigeon;\r\n",
      "\"and what does it matter to me whether you're a little girl or a\r\n",
      "serpent?\"\n",
      "\"It matters a good de\n"
     ]
    }
   ],
   "source": [
    "# Creating a BeautifulSoup object from the HTML\n",
    "\n",
    "soup = BeautifulSoup(html, 'html.parser')\n",
    "\n",
    "# Getting the text out of the soup\n",
    "\n",
    "text = soup.get_text()\n",
    "\n",
    "# Printing out text between characters 30000 and 35000\n",
    "print(text[30000:35000])"
   ]
  },
  {
   "cell_type": "markdown",
   "metadata": {},
   "source": [
    "## 4. Extract the words\n",
    "<p>Now that I have the text of interest, it's time to count how many times each word appears, and for this I'll use <code>nltk</code> – the Natural Language Toolkit. I'll start by tokenizing the text, that is, remove everything that isn't a word (whitespace, punctuation, etc.) and then split the text into a list of words.</p>"
   ]
  },
  {
   "cell_type": "code",
   "execution_count": 6,
   "metadata": {},
   "outputs": [
    {
     "name": "stdout",
     "output_type": "stream",
     "text": [
      "['The', 'Project', 'Gutenberg', 'eBook', 'of', 'Alice', 's', 'Adventures', 'in', 'Wonderland']\n"
     ]
    }
   ],
   "source": [
    "# Creating a tokenizer\n",
    "tokenizer = nltk.tokenize.RegexpTokenizer('\\w+')\n",
    "\n",
    "# Tokenizing the text\n",
    "tokens = tokenizer.tokenize(text)\n",
    "\n",
    "# Printing out the first 10 words / tokens \n",
    "print(tokens[:10])"
   ]
  },
  {
   "cell_type": "markdown",
   "metadata": {},
   "source": [
    "## 5. Make the words lowercase\n",
    "<p>Note that it's possible that some words in the above tokenized text have the same words in either in capital or not but both should be counted as the same word. For this reason, I should build a list of all words in the book in which all capital letters have been made lower case.</p>"
   ]
  },
  {
   "cell_type": "code",
   "execution_count": 8,
   "metadata": {},
   "outputs": [
    {
     "name": "stdout",
     "output_type": "stream",
     "text": [
      "['the', 'project', 'gutenberg', 'ebook', 'of', 'alice', 's', 'adventures', 'in', 'wonderland']\n"
     ]
    }
   ],
   "source": [
    "# A new list to hold the lowercased words\n",
    "words = []\n",
    "\n",
    "# Looping through the tokens and make them lower case\n",
    "for word in tokens:\n",
    "     words.append(word.lower())\n",
    "    \n",
    "\n",
    "# Printing out the first 10 words / tokens \n",
    "print(words[:10])"
   ]
  },
  {
   "cell_type": "markdown",
   "metadata": {},
   "source": [
    "## 6. Load in stop words\n",
    "<p>It is common practice to remove words that appear a lot in the English language such as 'the', 'of' and 'a' because they're not so interesting. Such words are known as <em>stop words</em>. The package <code>nltk</code> includes a good list of stop words in English that we can use.</p>"
   ]
  },
  {
   "cell_type": "code",
   "execution_count": 9,
   "metadata": {},
   "outputs": [
    {
     "name": "stdout",
     "output_type": "stream",
     "text": [
      "['i', 'me', 'my', 'myself', 'we', 'our', 'ours', 'ourselves']\n"
     ]
    }
   ],
   "source": [
    "# Getting the English stop words from nltk\n",
    "from nltk.corpus import stopwords\n",
    "\n",
    "sw = stopwords.words('english')\n",
    "\n",
    "# Printing out the first eight stop words\n",
    "\n",
    "print(sw[:8])"
   ]
  },
  {
   "cell_type": "markdown",
   "metadata": {},
   "source": [
    "## 7. Remove stop words in Alice's adventures in wonderland\n",
    "<p>We now want to create a new list with all <code>words</code> in the book, except those that are stop words. One way to get this list is to loop over all elements of <code>words</code> and add each word to a new list if they are <em>not</em> in <code>sw</code>.</p>"
   ]
  },
  {
   "cell_type": "code",
   "execution_count": 11,
   "metadata": {},
   "outputs": [
    {
     "name": "stdout",
     "output_type": "stream",
     "text": [
      "['project', 'gutenberg', 'ebook', 'alice', 'adventures']\n"
     ]
    }
   ],
   "source": [
    "# A new list to hold Lewis Carrol's book with No Stop words\n",
    "\n",
    "words_ns = []\n",
    "\n",
    "# Appending to words_ns all words that are in words but not in sw\n",
    "for word in words:\n",
    "    if word not in sw:\n",
    "        words_ns.append(word)\n",
    "\n",
    "# Printing the first 5 words_ns to check that stop words are gone\n",
    "print(words_ns[:5])"
   ]
  },
  {
   "cell_type": "markdown",
   "metadata": {},
   "source": [
    "## 8. The answer!\n",
    "<p>The question was:</p>\n",
    "\n",
    "<p>What are the most frequent words in Lewis Carrol's novel and how often do they occur?</p>\n",
    "\n",
    "<p>now I am ready to answer that! Let's create a word frequency distribution plot using <code>nltk</code>. </p>"
   ]
  },
  {
   "cell_type": "code",
   "execution_count": 12,
   "metadata": {},
   "outputs": [
    {
     "data": {
      "image/png": "[encoded data removed]",
      "text/plain": [
       "<matplotlib.figure.Figure at 0x1c074563898>"
      ]
     },
     "metadata": {},
     "output_type": "display_data"
    }
   ],
   "source": [
    "# This command display figures inline\n",
    "%matplotlib inline\n",
    "\n",
    "# Creating the word frequency distribution\n",
    "freqdist = nltk.FreqDist(words_ns)\n",
    "\n",
    "# Plotting the word frequency distribution\n",
    "\n",
    "freqdist.plot(25)"
   ]
  },
  {
   "cell_type": "markdown",
   "metadata": {},
   "source": [
    "## 9. The most common word\n",
    "<p>The frequency distribution plot above is the answer to our question. </p>\n",
    "<p>So, what word turned out to be the most common word in the book?</p>\n",
    "<blackquote> \n",
    "alice!!!"
   ]
  }
 ],
 "metadata": {
  "kernelspec": {
   "display_name": "Python 3",
   "language": "python",
   "name": "python3"
  },
  "language_info": {
   "codemirror_mode": {
    "name": "ipython",
    "version": 3
   },
   "file_extension": ".py",
   "mimetype": "text/x-python",
   "name": "python",
   "nbconvert_exporter": "python",
   "pygments_lexer": "ipython3",
   "version": "3.6.5"
  }
 },
 "nbformat": 4,
 "nbformat_minor": 2
}
